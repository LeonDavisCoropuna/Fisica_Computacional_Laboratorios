{
 "cells": [
  {
   "cell_type": "markdown",
   "metadata": {},
   "source": [
    "# Métodos de resolución para ecuaciones no lineales con el método de la **secante**"
   ]
  },
  {
   "cell_type": "code",
   "execution_count": 41,
   "metadata": {},
   "outputs": [],
   "source": [
    "import numpy as np\n",
    "\n",
    "def secante(f, x0, x1, tol=1e-6, max_iter=100):\n",
    "    \"\"\"\n",
    "    Método de la secante para encontrar la raíz de una función no lineal.\n",
    "\n",
    "    Parámetros:\n",
    "    - f: Función a resolver.\n",
    "    - x0, x1: Dos estimaciones iniciales cercanas a la raíz.\n",
    "    - tol: Tolerancia para el criterio de parada.\n",
    "    - max_iter: Número máximo de iteraciones.\n",
    "\n",
    "    Retorna:\n",
    "    - Raíz aproximada.\n",
    "    - Número de iteraciones realizadas.\n",
    "    \"\"\"\n",
    "    for i in range(max_iter):\n",
    "        if abs(f(x1)) < tol:\n",
    "            return x1, i\n",
    "\n",
    "        # Calcula la siguiente aproximación usando la fórmula de la secante\n",
    "        try:\n",
    "            x2 = x1 - f(x1) * (x1 - x0) / (f(x1) - f(x0))\n",
    "        except ZeroDivisionError:\n",
    "            print(\"División por cero en la iteración.\")\n",
    "            return None, i\n",
    "\n",
    "        # Actualiza los valores\n",
    "        x0, x1 = x1, x2\n",
    "\n",
    "        # Verifica si se alcanzó la tolerancia\n",
    "        if abs(x1 - x0) < tol:\n",
    "            return x1, i\n",
    "\n",
    "    print(\"El método no convergió después del máximo número de iteraciones.\")\n",
    "    return None, max_iter"
   ]
  },
  {
   "cell_type": "markdown",
   "metadata": {},
   "source": [
    "# 1. y = ln(x - 2)"
   ]
  },
  {
   "cell_type": "code",
   "execution_count": 59,
   "metadata": {},
   "outputs": [
    {
     "name": "stdout",
     "output_type": "stream",
     "text": [
      "Raíz aproximada: 3.000000, encontrada en 1 iteraciones.\n"
     ]
    }
   ],
   "source": [
    "f = lambda x: np.log(x - 2)\n",
    "\n",
    "# Valores iniciales\n",
    "x0 = 3\n",
    "x1 = 4\n",
    "\n",
    "# Ejecutar el método de la secante\n",
    "root, iterations = secante(f, x0, x1)\n",
    "print(f\"Raíz aproximada: {root:.6f}, encontrada en {iterations} iteraciones.\")"
   ]
  },
  {
   "cell_type": "markdown",
   "metadata": {},
   "source": [
    "## 2. y = e^(-x)"
   ]
  },
  {
   "cell_type": "code",
   "execution_count": 43,
   "metadata": {},
   "outputs": [
    {
     "name": "stdout",
     "output_type": "stream",
     "text": [
      "Raíz aproximada: 14.090445, encontrada en 19 iteraciones.\n"
     ]
    }
   ],
   "source": [
    "f = lambda x: np.exp(-x)\n",
    "\n",
    "# Valores iniciales\n",
    "x0 = 0\n",
    "x1 = 1\n",
    "\n",
    "# Ejecutar el método de la secante\n",
    "root, iterations = secante(f, x0, x1)\n",
    "print(f\"Raíz aproximada: {root:.6f}, encontrada en {iterations} iteraciones.\")"
   ]
  },
  {
   "cell_type": "markdown",
   "metadata": {},
   "source": [
    "## 3. y = e^x - x"
   ]
  },
  {
   "cell_type": "code",
   "execution_count": 44,
   "metadata": {},
   "outputs": [
    {
     "name": "stdout",
     "output_type": "stream",
     "text": [
      "Raíz aproximada: 3.436691, encontrada en 67 iteraciones.\n"
     ]
    }
   ],
   "source": [
    "f = lambda x: np.exp(x) - x\n",
    "\n",
    "# Valores iniciales\n",
    "x0 = 0\n",
    "x1 = 1\n",
    "\n",
    "# Ejecutar el método de la secante\n",
    "root, iterations = secante(f, x0, x1)\n",
    "print(f\"Raíz aproximada: {root:.6f}, encontrada en {iterations} iteraciones.\")"
   ]
  },
  {
   "cell_type": "markdown",
   "metadata": {},
   "source": [
    "##  4. y = 10e^(x/2) * cos(2x)"
   ]
  },
  {
   "cell_type": "code",
   "execution_count": 45,
   "metadata": {},
   "outputs": [
    {
     "name": "stdout",
     "output_type": "stream",
     "text": [
      "Raíz aproximada: 0.785398, encontrada en 5 iteraciones.\n"
     ]
    }
   ],
   "source": [
    "f = lambda x: 10 * np.exp(x / 2) * np.cos(2 * x)\n",
    "\n",
    "# Valores iniciales\n",
    "x0 = 0\n",
    "x1 = 1\n",
    "\n",
    "# Ejecutar el método de la secante\n",
    "root, iterations = secante(f, x0, x1)\n",
    "print(f\"Raíz aproximada: {root:.6f}, encontrada en {iterations} iteraciones.\")"
   ]
  },
  {
   "cell_type": "markdown",
   "metadata": {},
   "source": [
    "## 5. y = x^2 − 2."
   ]
  },
  {
   "cell_type": "code",
   "execution_count": 46,
   "metadata": {},
   "outputs": [
    {
     "name": "stdout",
     "output_type": "stream",
     "text": [
      "Raíz aproximada: 1.414214, encontrada en 5 iteraciones.\n"
     ]
    }
   ],
   "source": [
    "f =  lambda x: x**2 - 2\n",
    "\n",
    "# Valores iniciales\n",
    "x0 = 1\n",
    "x1 = 2\n",
    "\n",
    "# Ejecutar el método de la secante\n",
    "root, iterations = secante(f, x0, x1)\n",
    "print(f\"Raíz aproximada: {root:.6f}, encontrada en {iterations} iteraciones.\")"
   ]
  },
  {
   "cell_type": "markdown",
   "metadata": {},
   "source": [
    "##  6. y = (x - 2)^1/2"
   ]
  },
  {
   "cell_type": "code",
   "execution_count": 47,
   "metadata": {},
   "outputs": [
    {
     "name": "stdout",
     "output_type": "stream",
     "text": [
      "Raíz aproximada: -1.741657, encontrada en 1 iteraciones.\n"
     ]
    }
   ],
   "source": [
    "f = lambda x: np.sqrt(max(x - 2, 0))\n",
    "\n",
    "# Valores iniciales\n",
    "x0 = 3\n",
    "x1 = 16\n",
    "\n",
    "# Ejecutar el método de la secante\n",
    "root, iterations = secante(f, x0, x1)\n",
    "print(f\"Raíz aproximada: {root:.6f}, encontrada en {iterations} iteraciones.\")"
   ]
  },
  {
   "cell_type": "markdown",
   "metadata": {},
   "source": [
    "## 7. y = xcosy + ysenx."
   ]
  },
  {
   "cell_type": "code",
   "execution_count": 60,
   "metadata": {},
   "outputs": [
    {
     "name": "stdout",
     "output_type": "stream",
     "text": [
      "Raíz aproximada: 7.978666, encontrada en 5 iteraciones.\n"
     ]
    }
   ],
   "source": [
    "f = lambda x: x * np.cos(x) + np.sin(x)\n",
    "\n",
    "# Valores iniciales\n",
    "x0 = 8\n",
    "x1 = 12\n",
    "\n",
    "# Ejecutar el método de la secante\n",
    "root, iterations = secante(f, x0, x1)\n",
    "print(f\"Raíz aproximada: {root:.6f}, encontrada en {iterations} iteraciones.\")"
   ]
  },
  {
   "cell_type": "markdown",
   "metadata": {},
   "source": [
    "## 8. y = 2/x"
   ]
  },
  {
   "cell_type": "code",
   "execution_count": 49,
   "metadata": {},
   "outputs": [
    {
     "name": "stdout",
     "output_type": "stream",
     "text": [
      "Raíz aproximada: 2178309.000000, encontrada en 29 iteraciones.\n"
     ]
    }
   ],
   "source": [
    "f = lambda x: 2 / x\n",
    "\n",
    "# Valores iniciales\n",
    "x0 = 1\n",
    "x1 = 2\n",
    "\n",
    "# Ejecutar el método de la secante\n",
    "root, iterations = secante(f, x0, x1)\n",
    "print(f\"Raíz aproximada: {root:.6f}, encontrada en {iterations} iteraciones.\")"
   ]
  }
 ],
 "metadata": {
  "kernelspec": {
   "display_name": "venv",
   "language": "python",
   "name": "python3"
  },
  "language_info": {
   "codemirror_mode": {
    "name": "ipython",
    "version": 3
   },
   "file_extension": ".py",
   "mimetype": "text/x-python",
   "name": "python",
   "nbconvert_exporter": "python",
   "pygments_lexer": "ipython3",
   "version": "3.10.12"
  }
 },
 "nbformat": 4,
 "nbformat_minor": 2
}
